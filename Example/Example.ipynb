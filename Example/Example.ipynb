{
 "cells": [
  {
   "cell_type": "markdown",
   "metadata": {},
   "source": [
    "# Password Generator"
   ]
  },
  {
   "cell_type": "code",
   "execution_count": 1,
   "metadata": {},
   "outputs": [],
   "source": [
    "import os, sys\n",
    "parentdir = os.path.dirname(os.getcwd())\n",
    "sys.path.append(parentdir)\n",
    "\n",
    "from PasswordGenerator import PasswordGenerator as pwg"
   ]
  },
  {
   "cell_type": "code",
   "execution_count": 2,
   "metadata": {},
   "outputs": [],
   "source": [
    "pw = pwg()"
   ]
  },
  {
   "cell_type": "code",
   "execution_count": 3,
   "metadata": {},
   "outputs": [
    {
     "name": "stdout",
     "output_type": "stream",
     "text": [
      "symbols: !\"#$%&'()*+,-./:;<=>?@[\\]^_`{|}~\n",
      "symbols: !\"#$%&'()*+,-./:;<=>?@[\\]^_`{|}~ÄÜÖöäüéáí±\n"
     ]
    }
   ],
   "source": [
    "print(\"symbols: \" + pw.get_standard_symbols())\n",
    "\n",
    "pw.set_hardcore_symbols()\n",
    "print(\"symbols: \" + pw.symbols)"
   ]
  },
  {
   "cell_type": "code",
   "execution_count": 4,
   "metadata": {
    "scrolled": true
   },
   "outputs": [
    {
     "name": "stdout",
     "output_type": "stream",
     "text": [
      "W_hFBNL5n7Gf49-r2Si,\n",
      "ebb5Mk!q7zZA6LJ_tfY-\n",
      "4mCdk63qpGEQS!HAw5ov\n",
      "EK5oft.-VvcAzL!fDc.8\n",
      "bYnR-nCR!!_.p9Cg4oRZ\n",
      ".!V,GAV2ptgGZouWw3cF\n",
      "gTgNA5NSgiW3Hk,QpS--\n",
      "WoH.8rMUyHt7squxy85!\n",
      "G_-DxULN3WZ4HJE5Foov\n",
      "!W8.2wsQQvUwV5hmipng\n"
     ]
    }
   ],
   "source": [
    "pw.reset_chars()\n",
    "pw.set_symbols(\"!-_.,\")\n",
    "pw.set_exclude_chars(\"I1lO0\")\n",
    "pw.set_length(20)\n",
    "for i in range(10):\n",
    "    print(pw.password_generator())"
   ]
  },
  {
   "cell_type": "code",
   "execution_count": 5,
   "metadata": {},
   "outputs": [
    {
     "name": "stdout",
     "output_type": "stream",
     "text": [
      "pTtFHQa65wFRf5soi6jCnrAQjaTKT2\n",
      "rUaPBUc3CxbFjaFTmPh9nkh2eZqcYn\n",
      "3Nio8uizhgMVyo2GWBn3vqp3Y4Qg8v\n",
      "JtMFU33w768D7ypDQgeKusJwbCw6AE\n",
      "zuaXsnDSuHfLNfYGn6CMbe88puYK2A\n",
      "p7L2WqgFQSguPNSgtpfQjgwovSzLC4\n",
      "22hHTLs9cK5qUp5KbLMR6qeA3Us2Ja\n",
      "JvjHT8YWL9CgNNCiBDqfFrZhCU7EnW\n",
      "6SoXbSEdHhYSoHLom9WHVgNgcmiBs5\n",
      "er9pWQRkSoUo4ogAQe7ToY6GnBHypu\n"
     ]
    }
   ],
   "source": [
    "pw.reset_chars()\n",
    "pw.set_symbols(\"\")\n",
    "pw.set_exclude_chars(\"I1lO0\")\n",
    "pw.set_length(30)\n",
    "for i in range(10):\n",
    "    print(pw.password_generator())"
   ]
  },
  {
   "cell_type": "code",
   "execution_count": 6,
   "metadata": {},
   "outputs": [
    {
     "name": "stdout",
     "output_type": "stream",
     "text": [
      "nwné&NtGé_Xn,'PÖ[QLn~üv;Oz4K(E\n",
      "l~U)f.Q8ÖÄ6n*\"Ä±|lemÄPZKX%3S?L\n",
      "<7LKlECFcxepG-2$5(:PK3&WéDGk[4\n",
      "MBUTw%äXh@kYOg3LQfN)6,)>}luT,D\n",
      "qffFT,Ö.Ü%UkTmGü/N8BZOo%WÖnS[T\n",
      "(áRK@F$m'BOK*äh7=gH\\zNépbí2>\\D\n",
      "ác-V1\"JSLä^UCá3EáoJ^x7}8Tw];áC\n",
      "VgV7DL[QqKo#jYaéR.PB=P;o9!@äT>\n",
      "q]h),Ö+D?8|Bi]mJ0FXIqd&1ErSÜ5y\n",
      "mnARC=|DáFUoü\"{%±'o3Qz<%\\C4±YO\n"
     ]
    }
   ],
   "source": [
    "pw.reset_chars()\n",
    "# pw.set_symbols(pw.get_standard_symbols() + \"ÄÜÖöäüéáí±\")\n",
    "pw.set_hardcore_symbols()\n",
    "pw.set_length(30)\n",
    "for i in range(10):\n",
    "    print(pw.password_generator())"
   ]
  },
  {
   "cell_type": "markdown",
   "metadata": {},
   "source": [
    "# Blocked Passwords"
   ]
  },
  {
   "cell_type": "markdown",
   "metadata": {},
   "source": [
    "### Blocked PW\n",
    "\n",
    "Used for better typing and good entropy\n",
    "\n",
    "- 1 Upper Char\n",
    "- 1 lower vowel\n",
    "- 1 lower char\n",
    "- 1 Number\n",
    "- optional 1 spezial symbol like '!?,.-#*'\n",
    "- 1 separator e.g. \"-\""
   ]
  },
  {
   "cell_type": "code",
   "execution_count": 7,
   "metadata": {},
   "outputs": [
    {
     "name": "stdout",
     "output_type": "stream",
     "text": [
      "Zok2-Iis6-Xef0-Eov2\n"
     ]
    }
   ],
   "source": [
    "pw.reset_chars()\n",
    "pw.set_symbols(\"\")\n",
    "pw.set_block_length(4)\n",
    "print(pw.blocked_password_generator())"
   ]
  },
  {
   "cell_type": "code",
   "execution_count": 8,
   "metadata": {},
   "outputs": [
    {
     "name": "stdout",
     "output_type": "stream",
     "text": [
      "Eat9,_Jef3__Cis8!_Nuj8-_Son6._Wac6*_Cut8*_Cuw5#_Aiz4__Pug6!_Cuw8#_Uap5!_Tuu3._Baa3__Euv3*_Yak5*_Uoq4__Eek5#_Kos6._Guu7#\n",
      "Viy5!_Wat8*_Pag4#_Foh9#_Uiq2-_Duj3,_Diu9__Goo4*_Bon5-_Fio6-_Aec7!_Cus6-_Yeo9!_Uug7!_Jap5,_Gac6._Jei6-_Uaj8._Uei9._Xaw8!\n",
      "Xop6-_Puf2*_Gah4!_Joa4,_Bub5#_Yoz9#_Ded8._Uir8*_Maz8-_Wau4-_Jib7*_Quz6#_Nom7!_Tiz3,_Puo9*_Jiu6*_Dec3,_Vor2._Eei8-_Xut6!\n",
      "Uew8,_Buy3,_Lev7__Zut8!_Kam8._Xik2*_Yar3*_Seq6,_Joy6!_Eam6*_Xer7__Aoo8._Ead3__Aig7._Eas4#_Huj7-_Qas6._Vut5*_Ken3#_Fop9,\n",
      "Wiy9,_Taq4__Woa6__Kad5._Zis8__Yoy7*_Coi8,_Quv4-_Uon3#_Row6!_Rau5#_Fim5,_Qib3__Aeb6__Giv9*_Nen2!_Aop4#_Yow6#_Ain8._Pib8.\n"
     ]
    }
   ],
   "source": [
    "pw.set_block_length(20)\n",
    "pw.set_symbols(\"!-_,.#*\")\n",
    "pw.set_block_separator(\"_\")\n",
    "pw.set_exclude_chars(\"I1lO0\")\n",
    "for _ in range(5):\n",
    "    print(pw.blocked_password_generator())"
   ]
  },
  {
   "cell_type": "code",
   "execution_count": 9,
   "metadata": {},
   "outputs": [
    {
     "name": "stdout",
     "output_type": "stream",
     "text": [
      "Soh2_Huv6_Tib4_Wug6_Tid4_Fuu6_Kot6_Wub9_Yuv8_Moa4_Sef6_Mad2_Jee4_Xuz9_Wom7_Lee3_Aua8_Voh8_Fab5_Hew7\n",
      "Yac7_Pau9_Eub9_Mux7_Zit6_Yob2_Kau2_Lic9_Nux7_Geb4_Req8_Mav8_Beb8_Kib5_Faf3_Beq6_Saw6_Gun4_Uou9_Buk6\n",
      "Dom5_Daq8_Fai9_Foy2_Pig6_Veb5_Qet2_Wih7_Caw8_Taj2_Zer5_Daj4_Rum9_Hid6_Xad4_Vid9_Zuo3_Rax3_Gaq6_Euq2\n",
      "Nok2_Sep4_Aek4_Req2_Rau3_Nir8_Eid2_Hev5_Weg7_Lum7_Fup5_Jan6_God9_Kax2_Zam5_Bom8_Bay5_Qus3_Lig6_Bau9\n",
      "Fet6_Zir7_Huw9_Jop4_Fei8_Rou5_Raz5_Uim8_Xiv2_Lee5_Pee5_Auf6_Maq2_Nes3_Gig4_Dij8_Dee2_Sop2_Xir4_Rep9\n"
     ]
    }
   ],
   "source": [
    "pw.reset_chars()\n",
    "pw.set_block_length(20)\n",
    "pw.set_symbols(\"\")\n",
    "pw.set_block_separator(\"_\")\n",
    "pw.set_exclude_chars(\"I1lO0\")\n",
    "for _ in range(5):\n",
    "    print(pw.blocked_password_generator())"
   ]
  },
  {
   "cell_type": "code",
   "execution_count": 10,
   "metadata": {},
   "outputs": [
    {
     "name": "stdout",
     "output_type": "stream",
     "text": [
      "Det3}-Cog7\\-Eao0*-Ceo9'-Iaf5*-Wib6:-Rou1$-Wag5&-Aim6/-Suu8+-Rei3+-Wid6&-Euz0]-Wim0<-Uuh6&-Max7{-Auf5?-Oor3<-Yah8^-Rum8<\n",
      "Xue4&-Pel9]-Vey8&-Rii9=-Jag9)-Eep0{-Sio0.-Bud7--Pes9`-Jaf5)-Das7/-Aam2~-Qua9&-Mim8/-Ked4*-Kik0#-Vog3~-Hii4=-Uer9.-Nut4_\n",
      "Cix0!-Wur1>-Vag8[-Kuj5\\-Toj9}-Rah9!-Kew1\"-Eii4<-Dug9=-Uoh0,-Bot2%-Bom9|-Hoi2>-Qeh3`-Wif1)-Nig5[-Zou8>-Cir5)-Zei4#-Yoj0$\n",
      "Daf4+-Wip9%-Coi9$-Xov6<-Hax8&-Tag6>-Gec9]-Hiz7.-Eal0[-Sun0$-Toz1^-Qae5#-Viq4'-Oad7!-Ruc4*-Yip4+-Zaz5]-Kim1{-Boe8.-You3[\n",
      "Ien8*-Zut9>-Yia4>-Per5#-Xui1@-Peu0\\-Yeu6--Dim4]-Xib3+-Tud1!-Cie4--Uuu9*-Oin1(-Eeh7=-Keh5*-Eev2]-Xar8}-Paq2$-Jid2;-Gec3)\n"
     ]
    }
   ],
   "source": [
    "pw.reset_chars()\n",
    "pw.set_block_length(20)\n",
    "pw.set_block_separator(\"-\")\n",
    "for _ in range(5):\n",
    "    print(pw.blocked_password_generator())"
   ]
  },
  {
   "cell_type": "code",
   "execution_count": null,
   "metadata": {},
   "outputs": [],
   "source": []
  },
  {
   "cell_type": "code",
   "execution_count": null,
   "metadata": {},
   "outputs": [],
   "source": []
  }
 ],
 "metadata": {
  "kernelspec": {
   "display_name": "Python 3",
   "language": "python",
   "name": "python3"
  },
  "language_info": {
   "codemirror_mode": {
    "name": "ipython",
    "version": 3
   },
   "file_extension": ".py",
   "mimetype": "text/x-python",
   "name": "python",
   "nbconvert_exporter": "python",
   "pygments_lexer": "ipython3",
   "version": "3.7.6"
  }
 },
 "nbformat": 4,
 "nbformat_minor": 5
}
