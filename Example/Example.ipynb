{
 "cells": [
  {
   "cell_type": "markdown",
   "metadata": {},
   "source": [
    "# Password Generator"
   ]
  },
  {
   "cell_type": "markdown",
   "metadata": {},
   "source": [
    "### Load Library directory"
   ]
  },
  {
   "cell_type": "code",
   "execution_count": 6,
   "metadata": {},
   "outputs": [],
   "source": [
    "import os, sys\n",
    "parentdir = os.path.dirname(os.getcwd())\n",
    "sys.path.append(parentdir)"
   ]
  },
  {
   "cell_type": "markdown",
   "metadata": {},
   "source": [
    "## Import Lib"
   ]
  },
  {
   "cell_type": "code",
   "execution_count": 7,
   "metadata": {},
   "outputs": [],
   "source": [
    "from PasswordGenerator import PasswordGenerator as pwg"
   ]
  },
  {
   "cell_type": "markdown",
   "metadata": {},
   "source": [
    "## Use Password Generator"
   ]
  },
  {
   "cell_type": "code",
   "execution_count": 8,
   "metadata": {},
   "outputs": [],
   "source": [
    "pw = pwg()"
   ]
  },
  {
   "cell_type": "markdown",
   "metadata": {},
   "source": [
    "### Reset to default if needed"
   ]
  },
  {
   "cell_type": "code",
   "execution_count": 15,
   "metadata": {},
   "outputs": [],
   "source": [
    "pw.reset_chars()"
   ]
  },
  {
   "cell_type": "markdown",
   "metadata": {},
   "source": [
    "### optional: change / customize symbols"
   ]
  },
  {
   "cell_type": "code",
   "execution_count": null,
   "metadata": {},
   "outputs": [],
   "source": [
    "pw.set_symbols(\"!-_.,\")"
   ]
  },
  {
   "cell_type": "markdown",
   "metadata": {},
   "source": [
    "### Exclude characters from using\n",
    "\n",
    "- lower \"L\" looks like capital \"i\": lI\n",
    "- Zero sometimes look like capital \"o\": O0\n",
    "- this is optional, too "
   ]
  },
  {
   "cell_type": "code",
   "execution_count": 16,
   "metadata": {},
   "outputs": [],
   "source": [
    "pw.set_exclude_chars(\"I1lO0\")"
   ]
  },
  {
   "cell_type": "markdown",
   "metadata": {},
   "source": [
    "### change password length"
   ]
  },
  {
   "cell_type": "code",
   "execution_count": 17,
   "metadata": {},
   "outputs": [],
   "source": [
    "pw.set_length(20)"
   ]
  },
  {
   "cell_type": "markdown",
   "metadata": {},
   "source": [
    "### create new Password"
   ]
  },
  {
   "cell_type": "code",
   "execution_count": 21,
   "metadata": {},
   "outputs": [
    {
     "name": "stdout",
     "output_type": "stream",
     "text": [
      "i3hBB3l4bcN69cKvCInH\n"
     ]
    }
   ],
   "source": [
    "print(pw.password_generator())"
   ]
  },
  {
   "cell_type": "markdown",
   "metadata": {
    "scrolled": true,
    "tags": []
   },
   "source": [
    "### if you want to create PW without symbols"
   ]
  },
  {
   "cell_type": "code",
   "execution_count": 20,
   "metadata": {},
   "outputs": [
    {
     "name": "stdout",
     "output_type": "stream",
     "text": [
      "YGJDBiLGntFRLBKpg1Fy\n"
     ]
    }
   ],
   "source": [
    "pw.reset_chars()\n",
    "pw.set_symbols(\"\")\n",
    "pw.set_length(20)\n",
    "print(pw.password_generator())"
   ]
  },
  {
   "cell_type": "markdown",
   "metadata": {},
   "source": [
    "### add german / non german characters\n",
    "\n",
    "- use symbols to add these chars\n",
    "- e.g.   pw.set_symbols(pw.get_standard_symbols() + \"ÄÜÖöäüéáí±\")\n",
    "- or use pw.set_hardcore_symbols()"
   ]
  },
  {
   "cell_type": "code",
   "execution_count": 22,
   "metadata": {},
   "outputs": [
    {
     "name": "stdout",
     "output_type": "stream",
     "text": [
      "zW#\"[hJÜp[0vy\\{`v\"]!\n"
     ]
    }
   ],
   "source": [
    "pw.reset_chars()\n",
    "pw.set_hardcore_symbols()\n",
    "pw.set_length(20)\n",
    "print(pw.password_generator())"
   ]
  },
  {
   "cell_type": "markdown",
   "metadata": {},
   "source": [
    "# Blocked Passwords"
   ]
  },
  {
   "cell_type": "markdown",
   "metadata": {},
   "source": [
    "### Blocked PW\n",
    "\n",
    "Used for better typing and good entropy\n",
    "\n",
    "- 1 Upper Char\n",
    "- 1 lower vowel\n",
    "- 1 lower char\n",
    "- 1 Number\n",
    "- optional 1 spezial symbol like '!?,.-#*'\n",
    "- 1 separator e.g. \"-\""
   ]
  },
  {
   "cell_type": "code",
   "execution_count": 13,
   "metadata": {},
   "outputs": [
    {
     "name": "stdout",
     "output_type": "stream",
     "text": [
      "Muo0-Wuo4-Zoa0-Los8\n"
     ]
    }
   ],
   "source": [
    "pw.reset_chars()\n",
    "pw.set_symbols(\"\")\n",
    "pw.set_block_counts(4)\n",
    "print(pw.blocked_password_generator())"
   ]
  },
  {
   "cell_type": "code",
   "execution_count": 39,
   "metadata": {},
   "outputs": [
    {
     "name": "stdout",
     "output_type": "stream",
     "text": [
      "Xge78N-Pni42U-Rti94F-Cqa98Q\n"
     ]
    }
   ],
   "source": [
    "pw.set_block_counts(4)\n",
    "pw.set_symbols(\"!-_,.#*\")\n",
    "pw.set_block_separator(\"-\")\n",
    "pw.set_exclude_chars(\"I1lO0\")\n",
    "\n",
    "print(pw.blocked_password_generator())"
   ]
  },
  {
   "cell_type": "code",
   "execution_count": 41,
   "metadata": {},
   "outputs": [
    {
     "name": "stdout",
     "output_type": "stream",
     "text": [
      "Ezo78C_Fce99N_Bjo39R_Zhe53D\n"
     ]
    }
   ],
   "source": [
    "pw.reset_chars()\n",
    "pw.set_block_counts(4)\n",
    "pw.set_symbols(\"\")\n",
    "pw.set_block_separator(\"_\")\n",
    "pw.set_exclude_chars(\"I1lO0\")\n",
    "print(pw.blocked_password_generator())"
   ]
  },
  {
   "cell_type": "code",
   "execution_count": 34,
   "metadata": {},
   "outputs": [
    {
     "name": "stdout",
     "output_type": "stream",
     "text": [
      "Zeo78Y-Eaa42A-Zlu28H-Kni41B-Ryu69A-Saa35I\n"
     ]
    }
   ],
   "source": [
    "pw.reset_chars()\n",
    "pw.set_block_counts(6)\n",
    "pw.set_block_separator(\"-\")\n",
    "print(pw.blocked_password_generator())"
   ]
  },
  {
   "cell_type": "markdown",
   "metadata": {},
   "source": [
    "## Customize blocked password ordering"
   ]
  },
  {
   "cell_type": "code",
   "execution_count": 26,
   "metadata": {},
   "outputs": [],
   "source": [
    "pw.reset_chars()"
   ]
  },
  {
   "cell_type": "markdown",
   "metadata": {},
   "source": [
    "use _pw.set_block_character_order(str)_ to change the symbol / charactertype ordering\n",
    "\n",
    "- U or u: upper character\n",
    "- V or v: lower vovel\n",
    "- L or l: lower character\n",
    "- N or n: number\n",
    "- S or s: symbol\n",
    "\n",
    "e.g. \"UlvnnU\": upper, Lower, lower vovel, number, numer, upper\n"
   ]
  },
  {
   "cell_type": "code",
   "execution_count": 32,
   "metadata": {},
   "outputs": [],
   "source": [
    "pw.set_block_character_order(\"UlvnnU\")"
   ]
  },
  {
   "cell_type": "code",
   "execution_count": 33,
   "metadata": {},
   "outputs": [
    {
     "name": "stdout",
     "output_type": "stream",
     "text": [
      "Cvi40I-Vmo06J-Jwo12P-Yqi82R-Rqe80Y-Jda99F\n"
     ]
    }
   ],
   "source": [
    "print(pw.blocked_password_generator())"
   ]
  },
  {
   "cell_type": "code",
   "execution_count": null,
   "metadata": {},
   "outputs": [],
   "source": []
  },
  {
   "cell_type": "markdown",
   "metadata": {},
   "source": [
    "### Show available / active Symbols"
   ]
  },
  {
   "cell_type": "code",
   "execution_count": 9,
   "metadata": {},
   "outputs": [
    {
     "name": "stdout",
     "output_type": "stream",
     "text": [
      "symbols: !\"#$%&'()*+,-./:;<=>?@[\\]^_`{|}~\n",
      "symbols: !\"#$%&'()*+,-./:;<=>?@[\\]^_`{|}~ÄÜÖöäüéáí±\n"
     ]
    }
   ],
   "source": [
    "print(\"symbols: \" + pw.get_standard_symbols())\n",
    "pw.set_hardcore_symbols()\n",
    "print(\"symbols: \" + pw.symbols)"
   ]
  }
 ],
 "metadata": {
  "kernelspec": {
   "display_name": "Python 3",
   "language": "python",
   "name": "python3"
  },
  "language_info": {
   "codemirror_mode": {
    "name": "ipython",
    "version": 3
   },
   "file_extension": ".py",
   "mimetype": "text/x-python",
   "name": "python",
   "nbconvert_exporter": "python",
   "pygments_lexer": "ipython3",
   "version": "3.7.6"
  }
 },
 "nbformat": 4,
 "nbformat_minor": 5
}
