{
 "cells": [
  {
   "cell_type": "markdown",
   "id": "4a9bd900",
   "metadata": {},
   "source": [
    "# Password Generator"
   ]
  },
  {
   "cell_type": "code",
   "execution_count": 1,
   "id": "7b4a8106",
   "metadata": {},
   "outputs": [],
   "source": [
    "import os, sys\n",
    "parentdir = os.path.dirname(os.getcwd())\n",
    "sys.path.append(parentdir)\n",
    "\n",
    "from PasswordGenerator import PasswordGenerator as pwg"
   ]
  },
  {
   "cell_type": "code",
   "execution_count": 2,
   "id": "5c04c745",
   "metadata": {},
   "outputs": [],
   "source": [
    "pw = pwg()"
   ]
  },
  {
   "cell_type": "code",
   "execution_count": 3,
   "id": "8611d3cf",
   "metadata": {},
   "outputs": [
    {
     "name": "stdout",
     "output_type": "stream",
     "text": [
      "symbols: !\"#$%&'()*+,-./:;<=>?@[\\]^_`{|}~\n",
      "symbols: !\"#$%&'()*+,-./:;<=>?@[\\]^_`{|}~ÄÜÖöäüéáí±\n"
     ]
    }
   ],
   "source": [
    "print(\"symbols: \" + pw.get_standard_symbols())\n",
    "\n",
    "pw.set_hardcore_symbols()\n",
    "print(\"symbols: \" + pw.symbols)"
   ]
  },
  {
   "cell_type": "code",
   "execution_count": 4,
   "id": "75e5f15a",
   "metadata": {
    "scrolled": true,
    "tags": []
   },
   "outputs": [
    {
     "name": "stdout",
     "output_type": "stream",
     "text": [
      "5xyDfiXoC7V_x5jc9nQj\n",
      "wGpVpAWeZn8egMTnR2q,\n",
      "_HF-5inNCMqvt,_JXPh4\n",
      "QpzYKsh2Ww9ZFVN6unm!\n",
      "_qnehHAWxNfo3eNmX46i\n",
      "A6RATq,tv2w8CTDQe_UD\n",
      "74TXrzV6gGRUBj.oK_cu\n",
      ".5!2pUcAegH-MwuNsVJP\n",
      "RbyZe,nmhLH7RWAm,SKZ\n",
      "brmsfEy-xX7sB.fY_9oU\n"
     ]
    }
   ],
   "source": [
    "pw.reset_chars()\n",
    "pw.set_symbols(\"!-_.,\")\n",
    "pw.set_exclude_chars(\"I1lO0\")\n",
    "pw.set_length(20)\n",
    "for i in range(10):\n",
    "    print(pw.password_generator())"
   ]
  },
  {
   "cell_type": "code",
   "execution_count": 5,
   "id": "851f3878",
   "metadata": {},
   "outputs": [
    {
     "name": "stdout",
     "output_type": "stream",
     "text": [
      "uxfus4Y5kKdkMpgUQoxsCLWtdneNhQ\n",
      "8wE9EWBrFhmRNao4X3RbkpkWT2Zua2\n",
      "Xie29hpwGkXzoRBQ4EfNoV4H7B3uzX\n",
      "7zM9wberAj9ZzvNd3JBWtFE7VNfstx\n",
      "RQmW5j8rcQGPYbcLacZnxvXxfYgKiy\n",
      "FKPQvbAs8JJumdT2pQHfk2pQCNqwqU\n",
      "kFcM5NJME2yJmhFMejkneT4MJWti8E\n",
      "qETbHN2Bu3RJqNHs4tEzvDb4mwpVnL\n",
      "XAPk7PvDi3dg6Xie8LVqPihrtv85BS\n",
      "PDBE9VhUasMZEpd6bDRyQi3iHQRmLv\n"
     ]
    }
   ],
   "source": [
    "pw.reset_chars()\n",
    "pw.set_symbols(\"\")\n",
    "pw.set_exclude_chars(\"I1lO0\")\n",
    "pw.set_length(30)\n",
    "for i in range(10):\n",
    "    print(pw.password_generator())"
   ]
  },
  {
   "cell_type": "code",
   "execution_count": 6,
   "id": "baca7624",
   "metadata": {},
   "outputs": [
    {
     "name": "stdout",
     "output_type": "stream",
     "text": [
      ":läpRxZJDCä/,Z@B[_+,H2u&vü]Zdk\n",
      "JMC,?,Ebw^Ö*wÄ`/^2Y?9-Fü|ia>gJ\n",
      "1^±q!I__Mnf<EB8^%k5g^AÜY)+,!z`\n",
      "lo{Vl(+{J7GIy9p^ác;3íP]&*irksx\n",
      "+JI,)eXÄ\\ü>r2t,7Ix{!F=lÖ;`>^6}\n",
      "x5[432`d^GsT~,]X@ÖZwd5<8@<F#=B\n",
      "Jje6o~N2f%^dqp8tnkb]Kw+véMé/r`\n",
      "2MI83elv5iI}3>E[+0v@Bz6ZrWVa@k\n",
      ".93jG6|öJy760IdF625röü6}DÜQÄMk\n",
      "(esZ=;Y~)S5>_y`$-I$?xd-.F>l1[V\n"
     ]
    }
   ],
   "source": [
    "pw.reset_chars()\n",
    "# pw.set_symbols(pw.get_standard_symbols() + \"ÄÜÖöäüéáí±\")\n",
    "pw.set_hardcore_symbols()\n",
    "pw.set_length(30)\n",
    "for i in range(10):\n",
    "    print(pw.password_generator())"
   ]
  },
  {
   "cell_type": "markdown",
   "id": "9f6bd4be",
   "metadata": {},
   "source": [
    "# Blocked Passwords"
   ]
  },
  {
   "cell_type": "markdown",
   "id": "ad4cbb46",
   "metadata": {},
   "source": [
    "### Blocked PW\n",
    "\n",
    "Used for better typing and good entropy\n",
    "\n",
    "- 1 Upper Char\n",
    "- 1 lower vowel\n",
    "- 1 lower char\n",
    "- 1 Number\n",
    "- optional 1 spezial symbol like '!?,.-#*'\n",
    "- 1 separator e.g. \"-\""
   ]
  },
  {
   "cell_type": "code",
   "execution_count": 8,
   "id": "aab5df02",
   "metadata": {},
   "outputs": [
    {
     "name": "stdout",
     "output_type": "stream",
     "text": [
      "Gev1-Run4-Iim9-Voh2\n"
     ]
    }
   ],
   "source": [
    "pw.reset_chars()\n",
    "pw.set_symbols(\"\")\n",
    "pw.set_block_counts(4)\n",
    "print(pw.blocked_password_generator())"
   ]
  },
  {
   "cell_type": "code",
   "execution_count": 9,
   "id": "09aa5087",
   "metadata": {},
   "outputs": [
    {
     "name": "stdout",
     "output_type": "stream",
     "text": [
      "Gao3*-Bue8*-Uak3.-Voz6.-Yex9#-Dop9--Giz6,-Dek3.-Foe3.-Vui4_-Nou5#-Cuj8!-Que9_-Dan3.-Nec6_-Aia8!-Coz3_-Kir2--Yup7,-Qaz7!\n",
      "Qef7--Dos2.-Kii3_-Toc9_-Qiw8!-Bep5.-Nud6#-Wih5--Gor7_-Eeb9--Yoy8!-Ves5!-Zad9!-Xuu4_-Hum8,-Soj8_-Pit4.-Hix2.-Pih5*-Hog6-\n",
      "Lir8.-Fai8#-Dup8--Sat2*-Dui5.-Zak3_-New4#-Vat2!-Wug2--Man8.-Pem8,-Wuu9!-Ueg9--Moq5.-Gai3!-Ais7_-Muf7,-Wun8*-Foc6_-Qaq7_\n",
      "Vea6#-Soi4,-Pac3#-Mod9,-Yiy5--Dei5#-Uoo7.-Uuz2#-Uuy4,-Cac9!-Fer2--Euo9*-Saw7.-Uav3#-Day6,-Pur6--Tif4--Jeq8.-Zav8.-Vut9#\n",
      "Bio6.-Gif4!-Cev8*-Zuy4,-Jok6*-Xex3.-Woi8*-Cug9--Biw6!-Hoq8*-Zaw5,-Zut8.-Aog8.-Coc5*-Biz6_-Wui8*-Zab8.-Fuo6,-Mua8!-Zaz2_\n"
     ]
    }
   ],
   "source": [
    "pw.set_block_counts(20)\n",
    "pw.set_symbols(\"!-_,.#*\")\n",
    "pw.set_block_separator(\"-\")\n",
    "pw.set_exclude_chars(\"I1lO0\")\n",
    "for _ in range(5):\n",
    "    print(pw.blocked_password_generator())"
   ]
  },
  {
   "cell_type": "code",
   "execution_count": 10,
   "id": "7500e8d1",
   "metadata": {},
   "outputs": [
    {
     "name": "stdout",
     "output_type": "stream",
     "text": [
      "Rar8_Bet7_Vib4_Qib7_Nez6_Pau5_Son8_Pay3_Pan3_Kou7_Dit4_Yuc4_Coa6_Fum8_Due4_Dov6_Jez5_Mae7_Hui9_Zit8\n",
      "Gec9_Leo7_Koj3_Teu5_Euv8_Neu5_Yoh2_Aay4_Xed6_Riz4_Muc8_Mab5_Mot9_Cut3_Uii2_Quz5_Aok4_Nus4_Tir3_Fii2\n",
      "Yak7_Lio5_Hay8_Tuv9_Wio7_Pug4_Pau4_Quf7_Doz5_Uao3_Sei2_Uoy2_Peu6_Rod8_Wuj4_Xue3_Zuf3_Puh5_Zav9_Laa4\n",
      "Fuv3_Jej4_Ned5_Bug7_Quw5_Mub2_Hev7_Mut9_Coc7_Euk8_Xop7_Foz5_Loc5_Gub4_Lia9_Nep5_Pif6_Vao8_Doq7_Cem9\n",
      "Lea3_Jop8_Paf7_Wek4_Zac8_Pog7_Auv4_Xap2_Tec3_Qem5_Cuw4_Nug8_Rub8_Kor9_Qud3_Loq4_Tow3_Boz8_Gej2_Uir7\n"
     ]
    }
   ],
   "source": [
    "pw.reset_chars()\n",
    "pw.set_block_counts(20)\n",
    "pw.set_symbols(\"\")\n",
    "pw.set_block_separator(\"_\")\n",
    "pw.set_exclude_chars(\"I1lO0\")\n",
    "for _ in range(5):\n",
    "    print(pw.blocked_password_generator())"
   ]
  },
  {
   "cell_type": "code",
   "execution_count": 11,
   "id": "3757159e",
   "metadata": {},
   "outputs": [
    {
     "name": "stdout",
     "output_type": "stream",
     "text": [
      "Taj2>-Aip2|-Eel3?-Fad8)-Jec7#-Ies6~\n",
      "Kuk1$-Dam0#-Pet8~-Caq5\\-Jea7'-Leh9(\n",
      "Xoh2`-Med5@-Lub2]-Fek9`-Nij9*-Oes9=\n",
      "Xuw9?-Pol0}-Dip4_-Iiq9#-Tul9:-Oeg1<\n",
      "Iev1>-Fuo1_-Lel7|-Fos7<-Aey0]-Kad6|\n"
     ]
    }
   ],
   "source": [
    "pw.reset_chars()\n",
    "pw.set_block_counts(6)\n",
    "pw.set_block_separator(\"-\")\n",
    "for _ in range(5):\n",
    "    print(pw.blocked_password_generator())"
   ]
  },
  {
   "cell_type": "code",
   "execution_count": null,
   "id": "a1cbddea",
   "metadata": {},
   "outputs": [],
   "source": []
  },
  {
   "cell_type": "code",
   "execution_count": null,
   "id": "0688c553",
   "metadata": {},
   "outputs": [],
   "source": []
  }
 ],
 "metadata": {
  "kernelspec": {
   "display_name": "Python 3",
   "language": "python",
   "name": "python3"
  },
  "language_info": {
   "codemirror_mode": {
    "name": "ipython",
    "version": 3
   },
   "file_extension": ".py",
   "mimetype": "text/x-python",
   "name": "python",
   "nbconvert_exporter": "python",
   "pygments_lexer": "ipython3",
   "version": "3.7.7"
  }
 },
 "nbformat": 4,
 "nbformat_minor": 5
}
