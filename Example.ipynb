{
 "cells": [
  {
   "cell_type": "markdown",
   "metadata": {},
   "source": [
    "# Password Generator"
   ]
  },
  {
   "cell_type": "code",
   "execution_count": 1,
   "metadata": {},
   "outputs": [],
   "source": [
    "from PasswordGenerator import password_generator as pwg"
   ]
  },
  {
   "cell_type": "code",
   "execution_count": 2,
   "metadata": {},
   "outputs": [],
   "source": [
    "pw = pwg()"
   ]
  },
  {
   "cell_type": "code",
   "execution_count": 3,
   "metadata": {},
   "outputs": [
    {
     "name": "stdout",
     "output_type": "stream",
     "text": [
      "symbols: !\"#$%&'()*+,-./:;<=>?@[\\]^_`{|}~\n",
      "symbols: !\"#$%&'()*+,-./:;<=>?@[\\]^_`{|}~ÄÜÖöäüéáí±\n"
     ]
    }
   ],
   "source": [
    "print(\"symbols: \" + pw.get_standard_symbols())\n",
    "\n",
    "pw.set_hardcoresymbols()\n",
    "print(\"symbols: \" + pw.symbols)"
   ]
  },
  {
   "cell_type": "code",
   "execution_count": 4,
   "metadata": {
    "scrolled": true
   },
   "outputs": [
    {
     "name": "stdout",
     "output_type": "stream",
     "text": [
      "zfFdB6Qqj2nau3pA!TxE\n",
      "z,,M4JVak_pNQxVtnP-6\n",
      "fcofDPPXnK.Am8y9!q3H\n",
      "3tDwf!Q5UwF_km67vEFS\n",
      "eAkY9!QcX3enGmf7oN.J\n",
      "8ha,zqCNYE4rppWF!2AF\n",
      "MsU.!8_iJ-wKKRYxKs22\n",
      "3A3V-XtT7qY_NrhW,Kme\n",
      "ZB9tFX-vwvbCrGBZZJyQ\n",
      "_7Kkt5CoFwFGetxqnrqp\n"
     ]
    }
   ],
   "source": [
    "pw.reset_chars()\n",
    "pw.set_symbols(\"!-_.,\")\n",
    "pw.set_excludeschars(\"I1lO0\")\n",
    "pw.set_length(20)\n",
    "for i in range(10):\n",
    "    print(pw.password_generator())"
   ]
  },
  {
   "cell_type": "code",
   "execution_count": 5,
   "metadata": {},
   "outputs": [
    {
     "name": "stdout",
     "output_type": "stream",
     "text": [
      "dUU4pcb7at4yXLfEUTEaBjeTtJz6Aa\n",
      "rGaU57PkjDJ826qZzNpXZBSMn5QkyC\n",
      "jwjKUZwd7JaLHLwEDUP3RUacM7dDAE\n",
      "uUPWGEopTXHZrF5mcvetkZNeg85fjp\n",
      "Cbbp9ztFRsbDAUdrZpsW2YKpxQUwpc\n",
      "gKYC97JghPh4szs4cqjNF8r8p7vXyU\n",
      "otykZBeRRSeduYtuCjHDYSa48GWvEJ\n",
      "e97pN5gxofGhjqC7Qgrc2AkNRTREjG\n",
      "6hSWGbcpEyk3PrM6bH66YpueQGCSCL\n",
      "A3KQ3pzmrZCSrbMELtUEgWEmrxmLS4\n"
     ]
    }
   ],
   "source": [
    "pw.reset_chars()\n",
    "pw.set_symbols(\"\")\n",
    "pw.set_excludeschars(\"I1lO0\")\n",
    "pw.set_length(30)\n",
    "for i in range(10):\n",
    "    print(pw.password_generator())"
   ]
  },
  {
   "cell_type": "code",
   "execution_count": 6,
   "metadata": {},
   "outputs": [
    {
     "name": "stdout",
     "output_type": "stream",
     "text": [
      "@Ueeu>G+8^n=7R`A70XIY~b1Ué[9i+\n",
      "_}öND1tWt?}:pr6äUB^RbLt**éZH{*\n",
      "|?Nqbw2(^A(4CK[?9ígZ7Ä9m2F4ÖAb\n",
      "iT&1RcífY-u+2ZN#9IkBFmt`Ö9laP#\n",
      "Qi±=)9í_o``toMD_<G$s2&AG±+3sY\"\n",
      "\\U1,61\"~$E/1R8>b;9P^ü9}EY|W!Äj\n",
      "2__@öV@3D]`1jYqk'|.x}3%jY±Od\"S\n",
      "22%c^ä>_Wc]`32^f[?f>wc`GxZ2gqA\n",
      "ÄG?j[ä?Ö±ÖG±IüH2{rR]y_E{ZG%>í~\n",
      "Qümp\"ÄNi$Hl']W?[]Q\\7R\\2B{y'Ch]\n"
     ]
    }
   ],
   "source": [
    "pw.reset_chars()\n",
    "pw.set_symbols(pw.get_standard_symbols() + \"ÄÜÖöäüéáí±\")\n",
    "pw.set_length(30)\n",
    "for i in range(10):\n",
    "    print(pw.password_generator())"
   ]
  },
  {
   "cell_type": "markdown",
   "metadata": {},
   "source": [
    "# Blocked Passwords"
   ]
  },
  {
   "cell_type": "markdown",
   "metadata": {},
   "source": [
    "### Blocked PW\n",
    "\n",
    "Used for better typing and good entropy\n",
    "\n",
    "- 1 Upper Char\n",
    "- 1 lower vowel\n",
    "- 1 lower char\n",
    "- 1 Number\n",
    "- optional 1 spezial symbol like '!?,.-#*'\n",
    "- 1 separator e.g. \"-\""
   ]
  },
  {
   "cell_type": "code",
   "execution_count": 7,
   "metadata": {},
   "outputs": [
    {
     "name": "stdout",
     "output_type": "stream",
     "text": [
      "Aol8-Hel9-Jak6-Jes9\n"
     ]
    }
   ],
   "source": [
    "pw.reset_chars()\n",
    "pw.set_symbols(\"\")\n",
    "pw.set_block_length(4)\n",
    "print(pw.blocked_password_generator())"
   ]
  },
  {
   "cell_type": "code",
   "execution_count": 8,
   "metadata": {},
   "outputs": [
    {
     "name": "stdout",
     "output_type": "stream",
     "text": [
      "Pex5._Qoq9,_Sex2._Fuj8!_Gas4._Top6__Liu4,_Een7._Uaa7-_Vec3#_Xov8,_Gou3._Joz4!_Sib3#_Yuy9__Zai3!_Vat6*_Uii4._Mim2._Laq8#\n",
      "Qag6#_Noz8-_Yux3-_Tuh5#_Wup3*_Reu2._Zaq4__Nuo3._Qut6-_Net5._Red4-_Yao2!_Uug9-_Ueq7*_Cic8!_Roz4,_Har2._Cat9,_Kos6__Nij7!\n",
      "Fez3*_Yev4!_Ban3._Nik5__Zau7._Pam2__Eau2#_Rug8#_Pac3,_Gex4._Hap2._Muj6._Geg4._Keq4!_Gax8#_Aiu8*_Xud7._Lup7-_Lem9*_Puh6!\n",
      "Viu7*_Tig8#_Zux8._Bod2-_Quq6*_Gos4#_Qay3__Hiz2#_Vim7*_Xax4-_Coy9!_Dui2-_Jok9__Quk5*_Pud3-_Jay9!_Foh5__Juj8._Sey7._Tov7.\n",
      "Bot3!_Mab6-_Tuz3!_Xoq5!_Mep5._Yib8__Fev3#_Fer3__Mar4._Poe8-_Zez8._Aoa5._Geb7!_Goi2!_Xem9,_Cay3*_Kam8._Dix9._Raq5__Nit3#\n"
     ]
    }
   ],
   "source": [
    "pw.set_block_length(20)\n",
    "pw.set_symbols(\"!-_,.#*\")\n",
    "pw.set_block_separator(\"_\")\n",
    "pw.set_excludeschars(\"I1lO0\")\n",
    "for _ in range(5):\n",
    "    print(pw.blocked_password_generator())"
   ]
  },
  {
   "cell_type": "code",
   "execution_count": 9,
   "metadata": {},
   "outputs": [
    {
     "name": "stdout",
     "output_type": "stream",
     "text": [
      "Sug8_Fac2_Gub5_Roy6_Som3_Quu9_Puh9_Wuf9_Hut9_Ram8_Lap9_Nif8_Kev4_Jov2_Cen7_Via9_Sia4_Kot4_Piu8_Cez5\n",
      "Kia8_Den8_Beh2_Eah9_Dip4_Beo9_Pup4_Pie9_Ziz4_Pej8_Pex4_Kok4_Juc4_Tow6_Qai6_Wih4_Wof6_Lod4_Vej9_Ber7\n",
      "Wan8_Sos5_Lat6_Yeg8_Suf7_Cir3_Wos2_Muv4_Qiv8_Xaj5_Way5_Poh3_Jaq2_Juz8_Won2_Nar5_Zow8_Coj7_Zak2_Taf7\n",
      "Qiv2_Sis4_Nek2_Cay8_Mir8_Yap5_Qod3_Wum4_Rif5_Ren3_Sib6_Lau9_Zue9_Niy9_Guu8_Cab9_Sek6_Duc9_Fic8_Yej6\n",
      "Lai6_Vot2_Zom6_Zov8_Pot8_Pik2_Eez4_Woh7_Xah5_Fos9_Kee5_Vod2_Bam5_Nae4_Duu8_Dom6_Xep5_Pao6_Hah3_Haw7\n"
     ]
    }
   ],
   "source": [
    "pw.reset_chars()\n",
    "pw.set_block_length(20)\n",
    "pw.set_symbols(\"\")\n",
    "pw.set_block_separator(\"_\")\n",
    "pw.set_excludeschars(\"I1lO0\")\n",
    "for _ in range(5):\n",
    "    print(pw.blocked_password_generator())"
   ]
  },
  {
   "cell_type": "code",
   "execution_count": 10,
   "metadata": {},
   "outputs": [
    {
     "name": "stdout",
     "output_type": "stream",
     "text": [
      "Ton6\"-Pot6!-Cua5\\-Tuh5/-Raz7&-Qoj1_-Laa8;-Qae9.-Oez2_-Ois5}-Hor9@-Jix4(-Jer7!-Oax6`-Zum2*-Ooq0<-Suf9*-Juj8)-Nov5?-Mav1\"\n",
      "Bom7~-Wae8>-Jen3--Gov0.-Euv5#-Gox8@-Aai1}-Haw9>-Tay1>-Daq2`-Zaf4'-Oid0<-Uug4&-Rat0_-Goc3$-Aid9}-Eao8:-Hip2@-Cud6)-Yen2\\\n",
      "Gue7\"-Yua4+-Law1+-Der2#-Ail2:-Suj4}-Riw2.-Hot5]-Pes0\\-Dia1:-Fom2#-Iaw2&-Sue5~-Uaf5,-Tan7{-Iab1]-Uog1=-Quc3`-Tab9'-Uug7)\n",
      "Bod4`-Pep3(-Oim0`-Jev7#-Zob9%-Huf5}-Gob6]-Hac9>-Aun3@-Oue4[-Ter4\\-Pem3$-Nom8|-Nuq6.-Cul0\"-Woz5`-Jej0^-Eii5\\-Vow7\"-Tan2}\n",
      "Dey6$-Lua8%-Moi4&-Ruw6?-Sag3,-Pop4~-Mob6+-Yin1[-Jah3{-Iua8>-Uab5]-Moz4}-Ham4;-Jul4]-Uiq3>-Wen4`-Raa3|-Vai9,-Uim3$-Qul0*\n"
     ]
    }
   ],
   "source": [
    "pw.reset_chars()\n",
    "pw.set_block_length(20)\n",
    "pw.set_block_separator(\"-\")\n",
    "for _ in range(5):\n",
    "    print(pw.blocked_password_generator())"
   ]
  },
  {
   "cell_type": "code",
   "execution_count": null,
   "metadata": {},
   "outputs": [],
   "source": []
  },
  {
   "cell_type": "code",
   "execution_count": null,
   "metadata": {},
   "outputs": [],
   "source": []
  }
 ],
 "metadata": {
  "kernelspec": {
   "display_name": "Python 3",
   "language": "python",
   "name": "python3"
  },
  "language_info": {
   "codemirror_mode": {
    "name": "ipython",
    "version": 3
   },
   "file_extension": ".py",
   "mimetype": "text/x-python",
   "name": "python",
   "nbconvert_exporter": "python",
   "pygments_lexer": "ipython3",
   "version": "3.7.6"
  }
 },
 "nbformat": 4,
 "nbformat_minor": 5
}
