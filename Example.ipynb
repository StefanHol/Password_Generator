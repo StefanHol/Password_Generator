{
 "cells": [
  {
   "cell_type": "markdown",
   "metadata": {},
   "source": [
    "# Password Generator"
   ]
  },
  {
   "cell_type": "code",
   "execution_count": 1,
   "metadata": {},
   "outputs": [],
   "source": [
    "from PasswordGenerator import PasswordGenerator as pwg"
   ]
  },
  {
   "cell_type": "code",
   "execution_count": 2,
   "metadata": {},
   "outputs": [],
   "source": [
    "pw = pwg()"
   ]
  },
  {
   "cell_type": "code",
   "execution_count": 3,
   "metadata": {},
   "outputs": [
    {
     "name": "stdout",
     "output_type": "stream",
     "text": [
      "symbols: !\"#$%&'()*+,-./:;<=>?@[\\]^_`{|}~\n",
      "symbols: !\"#$%&'()*+,-./:;<=>?@[\\]^_`{|}~ÄÜÖöäüéáí±\n"
     ]
    }
   ],
   "source": [
    "print(\"symbols: \" + pw.get_standard_symbols())\n",
    "\n",
    "pw.set_hardcore_symbols()\n",
    "print(\"symbols: \" + pw.symbols)"
   ]
  },
  {
   "cell_type": "code",
   "execution_count": 4,
   "metadata": {
    "scrolled": true
   },
   "outputs": [
    {
     "name": "stdout",
     "output_type": "stream",
     "text": [
      "nD.5H-doCd,z-A!sCDGp\n",
      "3qcALvTQK9-QfU7Tw_WW\n",
      ",ryzG!jq2Bz-zYNC2,-8\n",
      "z.7DxQWFBnp273.HbBZB\n",
      "H,T2_PWcbgj,6FAWZxrf\n",
      "r6spT_v52xqA5ui!QVyd\n",
      "Qzc9g8ofr8V.RM,mfq9Z\n",
      "A-!yDsBTnUEGxB5RnLoy\n",
      "fS9LQhM-WsF!XZ9cR7hs\n",
      "7H3fr6_haSqiJVaD!Mox\n"
     ]
    }
   ],
   "source": [
    "pw.reset_chars()\n",
    "pw.set_symbols(\"!-_.,\")\n",
    "pw.set_exclude_chars(\"I1lO0\")\n",
    "pw.set_length(20)\n",
    "for i in range(10):\n",
    "    print(pw.password_generator())"
   ]
  },
  {
   "cell_type": "code",
   "execution_count": 5,
   "metadata": {},
   "outputs": [
    {
     "name": "stdout",
     "output_type": "stream",
     "text": [
      "EcCiMfT3rVTNf38crn8ukcCYuqT9ZM\n",
      "jXvmanXZAwgfj28PTo87JmGkbr2pcK\n",
      "asEnSWVVw8D7cXkceY6rhZCj5iNyU4\n",
      "nZhSXsaJVAUXXi9894WhfqEjXywtej\n",
      "D5NaZ7TUidpGZEecfqSeTw6bxmbwjK\n",
      "CyH4Qu46FA3LL2ujBbRY84H8YR5Qpn\n",
      "3P2cZsnSMaDWFNdVX97fjEKrwi37w7\n",
      "dG3fehyVY4Es5PZxgxNqB4YuH3Ti3K\n",
      "3ZinNJBdRUxm6mkTRjEuwLb3RMM38J\n",
      "9v3TL82YsrRJVnCATGc8LiPhGtbbcb\n"
     ]
    }
   ],
   "source": [
    "pw.reset_chars()\n",
    "pw.set_symbols(\"\")\n",
    "pw.set_exclude_chars(\"I1lO0\")\n",
    "pw.set_length(30)\n",
    "for i in range(10):\n",
    "    print(pw.password_generator())"
   ]
  },
  {
   "cell_type": "code",
   "execution_count": 6,
   "metadata": {},
   "outputs": [
    {
     "name": "stdout",
     "output_type": "stream",
     "text": [
      "Q{:XY~*jF<Lx`s{lo9=:,^GRXéHü(j\n",
      "SmÜnl±#fáá|PXuQG*C_(7v5>9~$IT0\n",
      "xX3Ah_PbC_FlTyJ]2cgN$|q$m+i/~r\n",
      ")w?7*x#hI=!P±4g`\\'_rx_KvgDr(M1\n",
      "R_p±W.<N*G(gGMNk~Ä==.V8]Iw7éIP\n",
      "±,±n<xüx&ä5(*^käFBNA5Ur_}DHC2h\n",
      "yS[JF7iJí/R#Q13`.{/?LSvp:Sq?6&\n",
      "*bYk7k]!+\"Pf}8Ki:s)<scTY'?HD{B\n",
      "±:uÖyÖ+M:Ü<Z<dj;-Jü=8n>k;4]ö&E\n",
      "P&í0Ü)}<};ÄEikö1WbLfcR$dMC35E)\n"
     ]
    }
   ],
   "source": [
    "pw.reset_chars()\n",
    "# pw.set_symbols(pw.get_standard_symbols() + \"ÄÜÖöäüéáí±\")\n",
    "pw.set_hardcore_symbols()\n",
    "pw.set_length(30)\n",
    "for i in range(10):\n",
    "    print(pw.password_generator())"
   ]
  },
  {
   "cell_type": "markdown",
   "metadata": {},
   "source": [
    "# Blocked Passwords"
   ]
  },
  {
   "cell_type": "markdown",
   "metadata": {},
   "source": [
    "### Blocked PW\n",
    "\n",
    "Used for better typing and good entropy\n",
    "\n",
    "- 1 Upper Char\n",
    "- 1 lower vowel\n",
    "- 1 lower char\n",
    "- 1 Number\n",
    "- optional 1 spezial symbol like '!?,.-#*'\n",
    "- 1 separator e.g. \"-\""
   ]
  },
  {
   "cell_type": "code",
   "execution_count": 7,
   "metadata": {},
   "outputs": [
    {
     "name": "stdout",
     "output_type": "stream",
     "text": [
      "Mod2-Sea3-Eir1-Rup8\n"
     ]
    }
   ],
   "source": [
    "pw.reset_chars()\n",
    "pw.set_symbols(\"\")\n",
    "pw.set_block_length(4)\n",
    "print(pw.blocked_password_generator())"
   ]
  },
  {
   "cell_type": "code",
   "execution_count": 8,
   "metadata": {},
   "outputs": [
    {
     "name": "stdout",
     "output_type": "stream",
     "text": [
      "Deq5__Coe2#_Jeg7*_Rad5#_Fof9*_Aum4#_Vaw5__Goj6*_Aij7._Uaz4-_Pid5-_Ged3,_Yeb2__Mup8,_Nej5._Bok3._Rek4__Lih5__Jij4!_Wap5#\n",
      "Uak9#_Nuc4._Eam6!_Jiq2!_Rur4._Saw8!_Uif2-_Xor5*_Yum9#_Kiw3,_Mej4__Joy8-_Meb9,_Xup6,_Gif7__Gao6#_Wad8,_Fag9#_Miv2,_Mib6,\n",
      "Wig4-_Jiu8#_Gao7*_Gay3__Jif8#_Wum9!_Xev5!_Nok8._Seh8._Yoh2!_Eoy3,_Puo7,_Fok3*_Hek8!_Hik6#_Aof6,_Zuh9*_Nos2._Dus7,_Wiw9_\n",
      "Hue3._Bua6!_Yus9,_Laq3,_Juq3-_Lir9*_Tid8-_Mos3,_Zih8*_Qaz9!_Sat7*_Uow9._Hap5__Poj5._Zof7*_Aah4__Yud2._Kib5!_Way9!_Piz3!\n",
      "Bow2__Eew3-_Qej9__Tit5__Guh5__Nip4#_Cez9__Feq3,_Xua6#_Vev2-_Dec6*_Aau5#_Naf7._Tud3-_Eum4*_Uuq4-_Cid6#_Rom8-_Luq6#_Hen3.\n"
     ]
    }
   ],
   "source": [
    "pw.set_block_length(20)\n",
    "pw.set_symbols(\"!-_,.#*\")\n",
    "pw.set_block_separator(\"_\")\n",
    "pw.set_exclude_chars(\"I1lO0\")\n",
    "for _ in range(5):\n",
    "    print(pw.blocked_password_generator())"
   ]
  },
  {
   "cell_type": "code",
   "execution_count": 9,
   "metadata": {},
   "outputs": [
    {
     "name": "stdout",
     "output_type": "stream",
     "text": [
      "Fud3_Kit7_Qiq7_Hep2_Fok5_Zaq9_Uig8_Yog3_Gag7_Rud9_Roq3_Gav2_Jup3_Yej2_Fez2_Yuq8_Jid5_Xag8_Kae2_Buy3\n",
      "Sev3_Weh3_Hih5_But5_Eeq8_Jip9_Mec2_Qux2_Vic4_Euv5_Jaw7_Aux6_Nim3_Tux4_Kay8_Vie8_Qao9_Mex7_Mov4_Ueb6\n",
      "Zoo4_Guu4_Pig6_Aev9_Bob2_Mif5_Wao4_Jep6_Voc9_Doi2_Kuw8_Vox9_Tog3_Pic4_Mai5_Tor6_Sij4_Qoz9_Mus3_Kad3\n",
      "Uut6_Fau9_Sae2_Eid9_Uoq2_Qec9_Rem7_Qok9_Kui4_Viq5_Bik8_Beg2_Gay4_Zue5_Zad2_Cez4_Yiy5_Fik4_Hah9_Guu3\n",
      "Def8_Duu2_Uew6_Geo5_Gez7_Det6_Rid5_Tij6_Qiw5_Neb6_Fue6_Coj6_Gif7_Zis8_Bin2_Juk2_Wuy7_Fek3_Sup8_Ruh3\n"
     ]
    }
   ],
   "source": [
    "pw.reset_chars()\n",
    "pw.set_block_length(20)\n",
    "pw.set_symbols(\"\")\n",
    "pw.set_block_separator(\"_\")\n",
    "pw.set_exclude_chars(\"I1lO0\")\n",
    "for _ in range(5):\n",
    "    print(pw.blocked_password_generator())"
   ]
  },
  {
   "cell_type": "code",
   "execution_count": 10,
   "metadata": {},
   "outputs": [
    {
     "name": "stdout",
     "output_type": "stream",
     "text": [
      "Eid0`-Lal8[-Rik9$-Eiu9`-Deu6%-Faa1/-Dae8#-Ieg6+-Uut0!-Aoq1~-Uay8:-Moe7.-Neg4}-Bin4<-Xoo7;-Vei3)-Dep3/-Zaj7<-Fux0~-Yew5|\n",
      "Yup0,-Tes2+-Woi0|-Moz8>-Sel0(-Fej7'-Saw6%-Fue1>-Zuq5]-Dip1`-Xee6}-Foe7^-Nai4}-Eep1:-Hil0[-Din1\"-Euy6]-Aof5*-Per0~-Loc0)\n",
      "Zaq9&-Ked9~-Qae7:-Dep8`-Zir3`-Ios8:-Mep1/-Neu6>-Jat2\\-Sun1'-Pov3+-Lew2:-Aep9[-Kub0<-Yid7$-Jiz5}-Bor8>-Pez9#-Zug4?-Der3,\n",
      "Dim7(-Hub2]-Iup9\"-Guz9^-Oaz0~-Foz7\\-Pat2(-Eif3;-Kas9,-Suc1--Vig9*-Tov8_-Dij9<-Yid0,-Auc2,-Len3<-Vih8\"-Yog3_-Poa8'-Aeb1?\n",
      "Xuv1@-Cov1#-Iia7<-Qao2>-Fut0/-Vik1:-Poc0#-Zul4{-Rul8:-Hup9|-Qec7!-Cia5[-Liu8&-Uew2{-Pet3#-Fey3<-Ioz0,-Oip4_-Maw9[-Vaw1)\n"
     ]
    }
   ],
   "source": [
    "pw.reset_chars()\n",
    "pw.set_block_length(20)\n",
    "pw.set_block_separator(\"-\")\n",
    "for _ in range(5):\n",
    "    print(pw.blocked_password_generator())"
   ]
  },
  {
   "cell_type": "code",
   "execution_count": null,
   "metadata": {},
   "outputs": [],
   "source": []
  },
  {
   "cell_type": "code",
   "execution_count": null,
   "metadata": {},
   "outputs": [],
   "source": []
  }
 ],
 "metadata": {
  "kernelspec": {
   "display_name": "Python 3",
   "language": "python",
   "name": "python3"
  },
  "language_info": {
   "codemirror_mode": {
    "name": "ipython",
    "version": 3
   },
   "file_extension": ".py",
   "mimetype": "text/x-python",
   "name": "python",
   "nbconvert_exporter": "python",
   "pygments_lexer": "ipython3",
   "version": "3.7.6"
  }
 },
 "nbformat": 4,
 "nbformat_minor": 5
}
